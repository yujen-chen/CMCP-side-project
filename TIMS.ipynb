{
 "cells": [
  {
   "cell_type": "code",
<<<<<<< HEAD
   "execution_count": 1,
=======
   "execution_count": 5,
>>>>>>> origin/TIMS
   "metadata": {},
   "outputs": [],
   "source": [
    "# import libraries\n",
    "import os\n",
    "import glob\n",
    "import math\n",
    "import pandas as pd \n",
    "import numpy as np \n",
    "import matplotlib.pylab as plt\n",
    "import plotly.express as px\n",
    "from datetime import datetime\n",
    "import geopandas as gpd\n",
    "from shapely.geometry import Point\n",
    "import folium\n",
<<<<<<< HEAD
=======
    "import data_utils\n",
>>>>>>> origin/TIMS
    "plt.style.use('ggplot')"
   ]
  },
  {
   "attachments": {},
   "cell_type": "markdown",
   "metadata": {},
   "source": [
<<<<<<< HEAD
    "# Load Raw Data"
=======
    "## Load Raw Data"
   ]
  },
  {
   "cell_type": "code",
   "execution_count": 2,
   "metadata": {},
   "outputs": [],
   "source": [
    "# load csv raw data and save it to parquet\n",
    "raw_data = pd.read_csv(\"raw_data/raw_crashes_2019_2021.csv\")\n",
    "raw_data.to_parquet(\"data/raw_crashes_2019_2021.csv\")\n"
>>>>>>> origin/TIMS
   ]
  },
  {
   "cell_type": "code",
   "execution_count": 3,
   "metadata": {},
   "outputs": [],
   "source": [
<<<<<<< HEAD
    "raw_df = pd.read_csv('raw_data/crashes_raw.csv')"
=======
    "# load parquet\n",
    "raw_data = pd.read_parquet(\"data/raw_crashes_2019_2021.csv\")"
>>>>>>> origin/TIMS
   ]
  },
  {
   "cell_type": "code",
   "execution_count": 4,
   "metadata": {},
   "outputs": [
    {
     "data": {
      "text/html": [
       "<div>\n",
       "<style scoped>\n",
       "    .dataframe tbody tr th:only-of-type {\n",
       "        vertical-align: middle;\n",
       "    }\n",
       "\n",
       "    .dataframe tbody tr th {\n",
       "        vertical-align: top;\n",
       "    }\n",
       "\n",
       "    .dataframe thead th {\n",
       "        text-align: right;\n",
       "    }\n",
       "</style>\n",
       "<table border=\"1\" class=\"dataframe\">\n",
       "  <thead>\n",
       "    <tr style=\"text-align: right;\">\n",
       "      <th></th>\n",
       "      <th>CASE_ID</th>\n",
       "      <th>ACCIDENT_YEAR</th>\n",
       "      <th>PROC_DATE</th>\n",
       "      <th>JURIS</th>\n",
       "      <th>COLLISION_DATE</th>\n",
       "      <th>COLLISION_TIME</th>\n",
       "      <th>OFFICER_ID</th>\n",
       "      <th>REPORTING_DISTRICT</th>\n",
       "      <th>DAY_OF_WEEK</th>\n",
       "      <th>CHP_SHIFT</th>\n",
       "      <th>...</th>\n",
       "      <th>COUNT_MC_KILLED</th>\n",
       "      <th>COUNT_MC_INJURED</th>\n",
       "      <th>PRIMARY_RAMP</th>\n",
       "      <th>SECONDARY_RAMP</th>\n",
       "      <th>LATITUDE</th>\n",
       "      <th>LONGITUDE</th>\n",
       "      <th>COUNTY</th>\n",
       "      <th>CITY</th>\n",
       "      <th>POINT_X</th>\n",
       "      <th>POINT_Y</th>\n",
       "    </tr>\n",
       "  </thead>\n",
       "  <tbody>\n",
       "    <tr>\n",
       "      <th>0</th>\n",
       "      <td>8168138</td>\n",
       "      <td>2019</td>\n",
       "      <td>2020-01-28</td>\n",
       "      <td>3000</td>\n",
       "      <td>2019-08-30</td>\n",
       "      <td>1600</td>\n",
       "      <td>3358</td>\n",
       "      <td>972D1</td>\n",
       "      <td>5</td>\n",
       "      <td>5</td>\n",
       "      <td>...</td>\n",
       "      <td>0</td>\n",
       "      <td>0</td>\n",
       "      <td>-</td>\n",
       "      <td>-</td>\n",
       "      <td>NaN</td>\n",
       "      <td>NaN</td>\n",
       "      <td>ORANGE</td>\n",
       "      <td>SAN JUAN CAPISTRANO</td>\n",
       "      <td>-117.656082</td>\n",
       "      <td>33.503235</td>\n",
       "    </tr>\n",
       "    <tr>\n",
       "      <th>1</th>\n",
       "      <td>8806652</td>\n",
       "      <td>2019</td>\n",
       "      <td>2019-07-18</td>\n",
       "      <td>3000</td>\n",
       "      <td>2019-02-17</td>\n",
       "      <td>700</td>\n",
       "      <td>9220</td>\n",
       "      <td>972D1</td>\n",
       "      <td>7</td>\n",
       "      <td>5</td>\n",
       "      <td>...</td>\n",
       "      <td>0</td>\n",
       "      <td>0</td>\n",
       "      <td>-</td>\n",
       "      <td>SF</td>\n",
       "      <td>NaN</td>\n",
       "      <td>NaN</td>\n",
       "      <td>ORANGE</td>\n",
       "      <td>SAN JUAN CAPISTRANO</td>\n",
       "      <td>-117.658058</td>\n",
       "      <td>33.502583</td>\n",
       "    </tr>\n",
       "    <tr>\n",
       "      <th>2</th>\n",
       "      <td>8833557</td>\n",
       "      <td>2019</td>\n",
       "      <td>2019-07-18</td>\n",
       "      <td>3000</td>\n",
       "      <td>2019-03-23</td>\n",
       "      <td>2151</td>\n",
       "      <td>2647</td>\n",
       "      <td>952G6</td>\n",
       "      <td>6</td>\n",
       "      <td>5</td>\n",
       "      <td>...</td>\n",
       "      <td>0</td>\n",
       "      <td>0</td>\n",
       "      <td>-</td>\n",
       "      <td>-</td>\n",
       "      <td>NaN</td>\n",
       "      <td>NaN</td>\n",
       "      <td>ORANGE</td>\n",
       "      <td>SAN JUAN CAPISTRANO</td>\n",
       "      <td>-117.633255</td>\n",
       "      <td>33.514874</td>\n",
       "    </tr>\n",
<<<<<<< HEAD
       "  </tbody>\n",
       "</table>\n",
       "<p>3 rows × 80 columns</p>\n",
=======
       "    <tr>\n",
       "      <th>3</th>\n",
       "      <td>8843043</td>\n",
       "      <td>2019</td>\n",
       "      <td>2019-08-23</td>\n",
       "      <td>3000</td>\n",
       "      <td>2019-04-02</td>\n",
       "      <td>1535</td>\n",
       "      <td>9220</td>\n",
       "      <td>952F6</td>\n",
       "      <td>2</td>\n",
       "      <td>5</td>\n",
       "      <td>...</td>\n",
       "      <td>0</td>\n",
       "      <td>0</td>\n",
       "      <td>-</td>\n",
       "      <td>-</td>\n",
       "      <td>NaN</td>\n",
       "      <td>NaN</td>\n",
       "      <td>ORANGE</td>\n",
       "      <td>SAN JUAN CAPISTRANO</td>\n",
       "      <td>-117.634476</td>\n",
       "      <td>33.514515</td>\n",
       "    </tr>\n",
       "    <tr>\n",
       "      <th>4</th>\n",
       "      <td>8869822</td>\n",
       "      <td>2019</td>\n",
       "      <td>2019-08-27</td>\n",
       "      <td>3000</td>\n",
       "      <td>2019-04-19</td>\n",
       "      <td>1610</td>\n",
       "      <td>3358</td>\n",
       "      <td>972D1</td>\n",
       "      <td>5</td>\n",
       "      <td>5</td>\n",
       "      <td>...</td>\n",
       "      <td>0</td>\n",
       "      <td>0</td>\n",
       "      <td>-</td>\n",
       "      <td>-</td>\n",
       "      <td>NaN</td>\n",
       "      <td>NaN</td>\n",
       "      <td>ORANGE</td>\n",
       "      <td>SAN JUAN CAPISTRANO</td>\n",
       "      <td>-117.655632</td>\n",
       "      <td>33.503399</td>\n",
       "    </tr>\n",
       "  </tbody>\n",
       "</table>\n",
       "<p>5 rows × 80 columns</p>\n",
>>>>>>> origin/TIMS
       "</div>"
      ],
      "text/plain": [
       "   CASE_ID  ACCIDENT_YEAR   PROC_DATE  JURIS COLLISION_DATE  COLLISION_TIME  \\\n",
       "0  8168138           2019  2020-01-28   3000     2019-08-30            1600   \n",
       "1  8806652           2019  2019-07-18   3000     2019-02-17             700   \n",
       "2  8833557           2019  2019-07-18   3000     2019-03-23            2151   \n",
<<<<<<< HEAD
=======
       "3  8843043           2019  2019-08-23   3000     2019-04-02            1535   \n",
       "4  8869822           2019  2019-08-27   3000     2019-04-19            1610   \n",
>>>>>>> origin/TIMS
       "\n",
       "   OFFICER_ID REPORTING_DISTRICT  DAY_OF_WEEK  CHP_SHIFT  ...  \\\n",
       "0        3358              972D1            5          5  ...   \n",
       "1        9220              972D1            7          5  ...   \n",
       "2        2647              952G6            6          5  ...   \n",
<<<<<<< HEAD
=======
       "3        9220              952F6            2          5  ...   \n",
       "4        3358              972D1            5          5  ...   \n",
>>>>>>> origin/TIMS
       "\n",
       "   COUNT_MC_KILLED  COUNT_MC_INJURED  PRIMARY_RAMP  SECONDARY_RAMP  LATITUDE  \\\n",
       "0                0                 0            -               -        NaN   \n",
       "1                0                 0            -               SF       NaN   \n",
       "2                0                 0            -               -        NaN   \n",
<<<<<<< HEAD
=======
       "3                0                 0            -               -        NaN   \n",
       "4                0                 0            -               -        NaN   \n",
>>>>>>> origin/TIMS
       "\n",
       "   LONGITUDE  COUNTY                 CITY     POINT_X    POINT_Y  \n",
       "0        NaN  ORANGE  SAN JUAN CAPISTRANO -117.656082  33.503235  \n",
       "1        NaN  ORANGE  SAN JUAN CAPISTRANO -117.658058  33.502583  \n",
       "2        NaN  ORANGE  SAN JUAN CAPISTRANO -117.633255  33.514874  \n",
<<<<<<< HEAD
       "\n",
       "[3 rows x 80 columns]"
=======
       "3        NaN  ORANGE  SAN JUAN CAPISTRANO -117.634476  33.514515  \n",
       "4        NaN  ORANGE  SAN JUAN CAPISTRANO -117.655632  33.503399  \n",
       "\n",
       "[5 rows x 80 columns]"
>>>>>>> origin/TIMS
      ]
     },
     "execution_count": 4,
     "metadata": {},
     "output_type": "execute_result"
    }
   ],
   "source": [
<<<<<<< HEAD
    "raw_df.head(3)"
=======
    "raw_data.head(5)"
   ]
  },
  {
   "cell_type": "code",
   "execution_count": 13,
   "metadata": {},
   "outputs": [
    {
     "data": {
      "text/plain": [
       "148"
      ]
     },
     "execution_count": 13,
     "metadata": {},
     "output_type": "execute_result"
    }
   ],
   "source": [
    "len(raw_data)"
   ]
  },
  {
   "cell_type": "code",
   "execution_count": 32,
   "metadata": {},
   "outputs": [],
   "source": [
    "SR74_postmile_gdf = gpd.read_parquet(\"data/SR74_postmile_gdf.parquet\")"
   ]
  },
  {
   "cell_type": "code",
   "execution_count": 33,
   "metadata": {},
   "outputs": [
    {
     "data": {
      "text/plain": [
       "170"
      ]
     },
     "execution_count": 33,
     "metadata": {},
     "output_type": "execute_result"
    }
   ],
   "source": [
    "len(SR74_postmile_gdf)"
   ]
  },
  {
   "cell_type": "code",
   "execution_count": 34,
   "metadata": {},
   "outputs": [
    {
     "data": {
      "text/html": [
       "<div>\n",
       "<style scoped>\n",
       "    .dataframe tbody tr th:only-of-type {\n",
       "        vertical-align: middle;\n",
       "    }\n",
       "\n",
       "    .dataframe tbody tr th {\n",
       "        vertical-align: top;\n",
       "    }\n",
       "\n",
       "    .dataframe thead th {\n",
       "        text-align: right;\n",
       "    }\n",
       "</style>\n",
       "<table border=\"1\" class=\"dataframe\">\n",
       "  <thead>\n",
       "    <tr style=\"text-align: right;\">\n",
       "      <th></th>\n",
       "      <th>OBJECTID</th>\n",
       "      <th>ROUTE</th>\n",
       "      <th>ROUTEID</th>\n",
       "      <th>COUNTY</th>\n",
       "      <th>DISTRICT</th>\n",
       "      <th>PMPREFIX</th>\n",
       "      <th>PM</th>\n",
       "      <th>PMSUFFIX</th>\n",
       "      <th>PMC</th>\n",
       "      <th>ALIGNCODE</th>\n",
       "      <th>Lat_WGS84</th>\n",
       "      <th>Long_WGS84</th>\n",
       "      <th>geometry</th>\n",
       "    </tr>\n",
       "  </thead>\n",
       "  <tbody>\n",
       "    <tr>\n",
       "      <th>576</th>\n",
       "      <td>258722</td>\n",
       "      <td>74</td>\n",
       "      <td>74_20171231_R</td>\n",
       "      <td>ORA</td>\n",
       "      <td>12</td>\n",
       "      <td>None</td>\n",
       "      <td>11.300000</td>\n",
       "      <td>None</td>\n",
       "      <td>11.3</td>\n",
       "      <td>Right</td>\n",
       "      <td>33.580740</td>\n",
       "      <td>-117.529616</td>\n",
       "      <td>POINT (-117.52962 33.58074)</td>\n",
       "    </tr>\n",
       "    <tr>\n",
       "      <th>577</th>\n",
       "      <td>258737</td>\n",
       "      <td>74</td>\n",
       "      <td>74_20171231_R</td>\n",
       "      <td>ORA</td>\n",
       "      <td>12</td>\n",
       "      <td>None</td>\n",
       "      <td>3.000000</td>\n",
       "      <td>None</td>\n",
       "      <td>3</td>\n",
       "      <td>Right</td>\n",
       "      <td>33.521904</td>\n",
       "      <td>-117.613456</td>\n",
       "      <td>POINT (-117.61346 33.52190)</td>\n",
       "    </tr>\n",
       "    <tr>\n",
       "      <th>581</th>\n",
       "      <td>259040</td>\n",
       "      <td>74</td>\n",
       "      <td>74_20171231_R</td>\n",
       "      <td>ORA</td>\n",
       "      <td>12</td>\n",
       "      <td>None</td>\n",
       "      <td>16.599001</td>\n",
       "      <td>None</td>\n",
       "      <td>16.599</td>\n",
       "      <td>Right</td>\n",
       "      <td>33.602202</td>\n",
       "      <td>-117.457767</td>\n",
       "      <td>POINT (-117.45777 33.60220)</td>\n",
       "    </tr>\n",
       "    <tr>\n",
       "      <th>584</th>\n",
       "      <td>259362</td>\n",
       "      <td>74</td>\n",
       "      <td>74_20171231_R</td>\n",
       "      <td>ORA</td>\n",
       "      <td>12</td>\n",
       "      <td>None</td>\n",
       "      <td>8.800000</td>\n",
       "      <td>None</td>\n",
       "      <td>8.8</td>\n",
       "      <td>Right</td>\n",
       "      <td>33.551094</td>\n",
       "      <td>-117.548974</td>\n",
       "      <td>POINT (-117.54897 33.55109)</td>\n",
       "    </tr>\n",
       "    <tr>\n",
       "      <th>585</th>\n",
       "      <td>259585</td>\n",
       "      <td>74</td>\n",
       "      <td>74_20171231_R</td>\n",
       "      <td>ORA</td>\n",
       "      <td>12</td>\n",
       "      <td>None</td>\n",
       "      <td>11.600000</td>\n",
       "      <td>None</td>\n",
       "      <td>11.6</td>\n",
       "      <td>Right</td>\n",
       "      <td>33.582667</td>\n",
       "      <td>-117.525100</td>\n",
       "      <td>POINT (-117.52510 33.58267)</td>\n",
       "    </tr>\n",
       "  </tbody>\n",
       "</table>\n",
       "</div>"
      ],
      "text/plain": [
       "     OBJECTID  ROUTE        ROUTEID COUNTY  DISTRICT PMPREFIX         PM  \\\n",
       "576    258722     74  74_20171231_R    ORA        12     None  11.300000   \n",
       "577    258737     74  74_20171231_R    ORA        12     None   3.000000   \n",
       "581    259040     74  74_20171231_R    ORA        12     None  16.599001   \n",
       "584    259362     74  74_20171231_R    ORA        12     None   8.800000   \n",
       "585    259585     74  74_20171231_R    ORA        12     None  11.600000   \n",
       "\n",
       "    PMSUFFIX     PMC ALIGNCODE  Lat_WGS84  Long_WGS84  \\\n",
       "576     None    11.3     Right  33.580740 -117.529616   \n",
       "577     None       3     Right  33.521904 -117.613456   \n",
       "581     None  16.599     Right  33.602202 -117.457767   \n",
       "584     None     8.8     Right  33.551094 -117.548974   \n",
       "585     None    11.6     Right  33.582667 -117.525100   \n",
       "\n",
       "                        geometry  \n",
       "576  POINT (-117.52962 33.58074)  \n",
       "577  POINT (-117.61346 33.52190)  \n",
       "581  POINT (-117.45777 33.60220)  \n",
       "584  POINT (-117.54897 33.55109)  \n",
       "585  POINT (-117.52510 33.58267)  "
      ]
     },
     "execution_count": 34,
     "metadata": {},
     "output_type": "execute_result"
    }
   ],
   "source": [
    "SR74_postmile_gdf.head(5)"
   ]
  },
  {
   "attachments": {},
   "cell_type": "markdown",
   "metadata": {},
   "source": [
    "## Data Wrangling and Spatial Analysis"
>>>>>>> origin/TIMS
   ]
  },
  {
   "cell_type": "code",
   "execution_count": 6,
   "metadata": {},
   "outputs": [
    {
     "data": {
      "text/plain": [
       "Index(['CASE_ID', 'ACCIDENT_YEAR', 'PROC_DATE', 'JURIS', 'COLLISION_DATE',\n",
       "       'COLLISION_TIME', 'OFFICER_ID', 'REPORTING_DISTRICT', 'DAY_OF_WEEK',\n",
       "       'CHP_SHIFT', 'POPULATION', 'CNTY_CITY_LOC', 'SPECIAL_COND', 'BEAT_TYPE',\n",
       "       'CHP_BEAT_TYPE', 'CITY_DIVISION_LAPD', 'CHP_BEAT_CLASS', 'BEAT_NUMBER',\n",
       "       'PRIMARY_RD', 'SECONDARY_RD', 'DISTANCE', 'DIRECTION', 'INTERSECTION',\n",
       "       'WEATHER_1', 'WEATHER_2', 'STATE_HWY_IND', 'CALTRANS_COUNTY',\n",
       "       'CALTRANS_DISTRICT', 'STATE_ROUTE', 'ROUTE_SUFFIX', 'POSTMILE_PREFIX',\n",
       "       'POSTMILE', 'LOCATION_TYPE', 'RAMP_INTERSECTION', 'SIDE_OF_HWY',\n",
       "       'TOW_AWAY', 'COLLISION_SEVERITY', 'NUMBER_KILLED', 'NUMBER_INJURED',\n",
       "       'PARTY_COUNT', 'PRIMARY_COLL_FACTOR', 'PCF_CODE_OF_VIOL',\n",
       "       'PCF_VIOL_CATEGORY', 'PCF_VIOLATION', 'PCF_VIOL_SUBSECTION',\n",
       "       'HIT_AND_RUN', 'TYPE_OF_COLLISION', 'MVIW', 'PED_ACTION',\n",
       "       'ROAD_SURFACE', 'ROAD_COND_1', 'ROAD_COND_2', 'LIGHTING',\n",
       "       'CONTROL_DEVICE', 'CHP_ROAD_TYPE', 'PEDESTRIAN_ACCIDENT',\n",
       "       'BICYCLE_ACCIDENT', 'MOTORCYCLE_ACCIDENT', 'TRUCK_ACCIDENT',\n",
       "       'NOT_PRIVATE_PROPERTY', 'ALCOHOL_INVOLVED', 'STWD_VEHTYPE_AT_FAULT',\n",
       "       'CHP_VEHTYPE_AT_FAULT', 'COUNT_SEVERE_INJ', 'COUNT_VISIBLE_INJ',\n",
       "       'COUNT_COMPLAINT_PAIN', 'COUNT_PED_KILLED', 'COUNT_PED_INJURED',\n",
       "       'COUNT_BICYCLIST_KILLED', 'COUNT_BICYCLIST_INJURED', 'COUNT_MC_KILLED',\n",
       "       'COUNT_MC_INJURED', 'PRIMARY_RAMP', 'SECONDARY_RAMP', 'LATITUDE',\n",
       "       'LONGITUDE', 'COUNTY', 'CITY', 'POINT_X', 'POINT_Y'],\n",
       "      dtype='object')"
      ]
     },
     "execution_count": 6,
     "metadata": {},
     "output_type": "execute_result"
    }
   ],
   "source": [
<<<<<<< HEAD
    "raw_df.columns"
   ]
  },
  {
   "attachments": {},
   "cell_type": "markdown",
   "metadata": {},
   "source": [
    "## Trimmed TIMS raw data"
=======
    "raw_data.columns"
>>>>>>> origin/TIMS
   ]
  },
  {
   "cell_type": "code",
<<<<<<< HEAD
   "execution_count": 7,
   "metadata": {},
   "outputs": [],
   "source": [
    "TIMS_trimmed_df = raw_df[\n",
    "    [\n",
    "        \"CASE_ID\",\n",
    "        \"ACCIDENT_YEAR\",\n",
    "        \"POSTMILE\",\n",
    "        \"COLLISION_SEVERITY\",\n",
    "        \"NUMBER_KILLED\",\n",
    "        \"NUMBER_INJURED\",\n",
    "        \"PARTY_COUNT\",\n",
    "        \"PRIMARY_COLL_FACTOR\",\n",
    "        \"PCF_VIOL_CATEGORY\",\n",
    "        \"TYPE_OF_COLLISION\",\n",
    "        \"PED_ACTION\",\n",
    "        \"PEDESTRIAN_ACCIDENT\",\n",
    "        \"BICYCLE_ACCIDENT\",\n",
    "        \"MOTORCYCLE_ACCIDENT\",\n",
    "        \"TRUCK_ACCIDENT\",\n",
    "        \"NOT_PRIVATE_PROPERTY\",\n",
    "        \"ALCOHOL_INVOLVED\",\n",
    "        \"POINT_X\",\n",
    "        \"POINT_Y\",\n",
    "    ]\n",
    "].copy()\n"
   ]
  },
  {
   "attachments": {},
   "cell_type": "markdown",
   "metadata": {},
   "source": [
    "## Add geometry data"
=======
   "execution_count": 12,
   "metadata": {},
   "outputs": [
    {
     "data": {
      "text/plain": [
       "148"
      ]
     },
     "execution_count": 12,
     "metadata": {},
     "output_type": "execute_result"
    }
   ],
   "source": [
    "raw_data['CASE_ID'].nunique()"
   ]
  },
  {
   "cell_type": "code",
   "execution_count": 19,
   "metadata": {},
   "outputs": [],
   "source": [
    "cols_to_keep = [\n",
    "    \"CASE_ID\",\n",
    "    \"ACCIDENT_YEAR\",\n",
    "    \"DIRECTION\",\n",
    "    \"POSTMILE\",\n",
    "    \"COLLISION_SEVERITY\",\n",
    "    \"NUMBER_KILLED\",\n",
    "    \"NUMBER_INJURED\",\n",
    "    \"PRIMARY_COLL_FACTOR\",\n",
    "    \"TYPE_OF_COLLISION\",\n",
    "    \"PEDESTRIAN_ACCIDENT\",\n",
    "    \"BICYCLE_ACCIDENT\",\n",
    "    \"MOTORCYCLE_ACCIDENT\",\n",
    "    \"TRUCK_ACCIDENT\",\n",
    "    \"ALCOHOL_INVOLVED\",\n",
    "    \"POINT_X\",\n",
    "    \"POINT_Y\",\n",
    "]\n"
>>>>>>> origin/TIMS
   ]
  },
  {
   "cell_type": "code",
<<<<<<< HEAD
   "execution_count": 50,
   "metadata": {},
   "outputs": [],
   "source": [
    "TIMS_trimmed_df['geometry'] = TIMS_trimmed_df.apply(lambda row: Point(row.POINT_X, row.POINT_Y), axis=1)\n",
    "TIMS_trimmed_df = gpd.GeoDataFrame(TIMS_trimmed_df, geometry='geometry')\n",
    "TIMS_trimmed_df.crs = 'EPSG:4019'"
=======
   "execution_count": 20,
   "metadata": {},
   "outputs": [],
   "source": [
    "TIMS_trimmed_df = raw_data.loc[:, cols_to_keep]"
>>>>>>> origin/TIMS
   ]
  },
  {
   "cell_type": "code",
<<<<<<< HEAD
   "execution_count": 66,
   "metadata": {},
   "outputs": [],
   "source": [
    "TIMS_trimmed_gdf = TIMS_trimmed_df.copy()\n",
    "TIMS_trimmed_gdf.to_parquet('data/TIMS_trimmed_gdf.parquet')"
   ]
  },
  {
   "attachments": {},
   "cell_type": "markdown",
   "metadata": {},
   "source": [
    "# Load SR postmile data"
=======
   "execution_count": 24,
   "metadata": {},
   "outputs": [
    {
     "name": "stdout",
     "output_type": "stream",
     "text": [
      "0\n",
      "0\n"
     ]
    }
   ],
   "source": [
    "print(TIMS_trimmed_df[\"POINT_X\"].isna().sum())\n",
    "print(TIMS_trimmed_df[\"POINT_Y\"].isna().sum())"
   ]
  },
  {
   "cell_type": "code",
   "execution_count": 25,
   "metadata": {},
   "outputs": [],
   "source": [
    "TIMS_trimmed_df = TIMS_trimmed_df.rename(columns={\n",
    "    \"POINT_X\": \"lon\",\n",
    "    \"POINT_Y\": \"lat\",\n",
    "})"
>>>>>>> origin/TIMS
   ]
  },
  {
   "cell_type": "code",
<<<<<<< HEAD
   "execution_count": 47,
   "metadata": {},
   "outputs": [],
   "source": [
    "SR74_postmile_gdf = gpd.read_parquet('data/SR74_postmile_gdf.parquet')"
=======
   "execution_count": 26,
   "metadata": {},
   "outputs": [],
   "source": [
    "TIMS_trimmed_gdf = data_utils.coordinate_to_geometry(TIMS_trimmed_df)"
>>>>>>> origin/TIMS
   ]
  },
  {
   "cell_type": "code",
<<<<<<< HEAD
   "execution_count": 48,
=======
   "execution_count": 27,
>>>>>>> origin/TIMS
   "metadata": {},
   "outputs": [
    {
     "data": {
      "text/html": [
       "<div>\n",
       "<style scoped>\n",
       "    .dataframe tbody tr th:only-of-type {\n",
       "        vertical-align: middle;\n",
       "    }\n",
       "\n",
       "    .dataframe tbody tr th {\n",
       "        vertical-align: top;\n",
       "    }\n",
       "\n",
       "    .dataframe thead th {\n",
       "        text-align: right;\n",
       "    }\n",
       "</style>\n",
       "<table border=\"1\" class=\"dataframe\">\n",
       "  <thead>\n",
       "    <tr style=\"text-align: right;\">\n",
       "      <th></th>\n",
<<<<<<< HEAD
       "      <th>OBJECTID</th>\n",
       "      <th>ROUTE</th>\n",
       "      <th>ROUTEID</th>\n",
       "      <th>COUNTY</th>\n",
       "      <th>DISTRICT</th>\n",
       "      <th>PMPREFIX</th>\n",
       "      <th>PM</th>\n",
       "      <th>PMSUFFIX</th>\n",
       "      <th>PMC</th>\n",
       "      <th>ALIGNCODE</th>\n",
       "      <th>Lat_WGS84</th>\n",
       "      <th>Long_WGS84</th>\n",
       "      <th>geometry</th>\n",
       "      <th>SECTION</th>\n",
=======
       "      <th>CASE_ID</th>\n",
       "      <th>ACCIDENT_YEAR</th>\n",
       "      <th>DIRECTION</th>\n",
       "      <th>POSTMILE</th>\n",
       "      <th>COLLISION_SEVERITY</th>\n",
       "      <th>NUMBER_KILLED</th>\n",
       "      <th>NUMBER_INJURED</th>\n",
       "      <th>PRIMARY_COLL_FACTOR</th>\n",
       "      <th>TYPE_OF_COLLISION</th>\n",
       "      <th>PEDESTRIAN_ACCIDENT</th>\n",
       "      <th>BICYCLE_ACCIDENT</th>\n",
       "      <th>MOTORCYCLE_ACCIDENT</th>\n",
       "      <th>TRUCK_ACCIDENT</th>\n",
       "      <th>ALCOHOL_INVOLVED</th>\n",
       "      <th>lon</th>\n",
       "      <th>lat</th>\n",
       "      <th>geometry</th>\n",
>>>>>>> origin/TIMS
       "    </tr>\n",
       "  </thead>\n",
       "  <tbody>\n",
       "    <tr>\n",
<<<<<<< HEAD
       "      <th>576</th>\n",
       "      <td>258722</td>\n",
       "      <td>74</td>\n",
       "      <td>74_20171231_R</td>\n",
       "      <td>ORA</td>\n",
       "      <td>12</td>\n",
       "      <td>None</td>\n",
       "      <td>11.300000</td>\n",
       "      <td>None</td>\n",
       "      <td>11.3</td>\n",
       "      <td>Right</td>\n",
       "      <td>33.580740</td>\n",
       "      <td>-117.529616</td>\n",
       "      <td>POINT (-117.52962 33.58074)</td>\n",
       "      <td>3</td>\n",
       "    </tr>\n",
       "    <tr>\n",
       "      <th>577</th>\n",
       "      <td>258737</td>\n",
       "      <td>74</td>\n",
       "      <td>74_20171231_R</td>\n",
       "      <td>ORA</td>\n",
       "      <td>12</td>\n",
       "      <td>None</td>\n",
       "      <td>3.000000</td>\n",
       "      <td>None</td>\n",
       "      <td>3</td>\n",
       "      <td>Right</td>\n",
       "      <td>33.521904</td>\n",
       "      <td>-117.613456</td>\n",
       "      <td>POINT (-117.61346 33.52190)</td>\n",
       "      <td>2</td>\n",
       "    </tr>\n",
       "    <tr>\n",
       "      <th>581</th>\n",
       "      <td>259040</td>\n",
       "      <td>74</td>\n",
       "      <td>74_20171231_R</td>\n",
       "      <td>ORA</td>\n",
       "      <td>12</td>\n",
       "      <td>None</td>\n",
       "      <td>16.599001</td>\n",
       "      <td>None</td>\n",
       "      <td>16.599</td>\n",
       "      <td>Right</td>\n",
       "      <td>33.602202</td>\n",
       "      <td>-117.457767</td>\n",
       "      <td>POINT (-117.45777 33.60220)</td>\n",
       "      <td>3</td>\n",
       "    </tr>\n",
       "    <tr>\n",
       "      <th>584</th>\n",
       "      <td>259362</td>\n",
       "      <td>74</td>\n",
       "      <td>74_20171231_R</td>\n",
       "      <td>ORA</td>\n",
       "      <td>12</td>\n",
       "      <td>None</td>\n",
       "      <td>8.800000</td>\n",
       "      <td>None</td>\n",
       "      <td>8.8</td>\n",
       "      <td>Right</td>\n",
       "      <td>33.551094</td>\n",
       "      <td>-117.548974</td>\n",
       "      <td>POINT (-117.54897 33.55109)</td>\n",
       "      <td>3</td>\n",
       "    </tr>\n",
       "    <tr>\n",
       "      <th>585</th>\n",
       "      <td>259585</td>\n",
       "      <td>74</td>\n",
       "      <td>74_20171231_R</td>\n",
       "      <td>ORA</td>\n",
       "      <td>12</td>\n",
       "      <td>None</td>\n",
       "      <td>11.600000</td>\n",
       "      <td>None</td>\n",
       "      <td>11.6</td>\n",
       "      <td>Right</td>\n",
       "      <td>33.582667</td>\n",
       "      <td>-117.525100</td>\n",
       "      <td>POINT (-117.52510 33.58267)</td>\n",
       "      <td>3</td>\n",
       "    </tr>\n",
       "    <tr>\n",
       "      <th>...</th>\n",
       "      <td>...</td>\n",
       "      <td>...</td>\n",
       "      <td>...</td>\n",
       "      <td>...</td>\n",
       "      <td>...</td>\n",
       "      <td>...</td>\n",
       "      <td>...</td>\n",
       "      <td>...</td>\n",
       "      <td>...</td>\n",
       "      <td>...</td>\n",
       "      <td>...</td>\n",
       "      <td>...</td>\n",
       "      <td>...</td>\n",
       "      <td>...</td>\n",
       "    </tr>\n",
       "    <tr>\n",
       "      <th>5695</th>\n",
       "      <td>263226</td>\n",
       "      <td>74</td>\n",
       "      <td>74_20171231_R</td>\n",
       "      <td>ORA</td>\n",
       "      <td>12</td>\n",
       "      <td>None</td>\n",
       "      <td>1.000000</td>\n",
       "      <td>None</td>\n",
       "      <td>1</td>\n",
       "      <td>Right</td>\n",
       "      <td>33.510625</td>\n",
       "      <td>-117.644545</td>\n",
       "      <td>POINT (-117.64455 33.51062)</td>\n",
       "      <td>1</td>\n",
       "    </tr>\n",
       "    <tr>\n",
       "      <th>5696</th>\n",
       "      <td>263266</td>\n",
       "      <td>74</td>\n",
       "      <td>74_20171231_R</td>\n",
       "      <td>ORA</td>\n",
       "      <td>12</td>\n",
       "      <td>None</td>\n",
       "      <td>6.000000</td>\n",
       "      <td>None</td>\n",
       "      <td>6</td>\n",
       "      <td>Right</td>\n",
       "      <td>33.515031</td>\n",
       "      <td>-117.565596</td>\n",
       "      <td>POINT (-117.56560 33.51503)</td>\n",
       "      <td>2</td>\n",
       "    </tr>\n",
       "    <tr>\n",
       "      <th>5700</th>\n",
       "      <td>263753</td>\n",
       "      <td>74</td>\n",
       "      <td>74_20171231_R</td>\n",
       "      <td>ORA</td>\n",
       "      <td>12</td>\n",
       "      <td>None</td>\n",
       "      <td>9.500000</td>\n",
       "      <td>None</td>\n",
       "      <td>9.5</td>\n",
       "      <td>Right</td>\n",
       "      <td>33.560830</td>\n",
       "      <td>-117.547352</td>\n",
       "      <td>POINT (-117.54735 33.56083)</td>\n",
       "      <td>3</td>\n",
       "    </tr>\n",
       "    <tr>\n",
       "      <th>5703</th>\n",
       "      <td>264190</td>\n",
       "      <td>74</td>\n",
       "      <td>74_20171231_R</td>\n",
       "      <td>ORA</td>\n",
       "      <td>12</td>\n",
       "      <td>None</td>\n",
       "      <td>15.100000</td>\n",
       "      <td>None</td>\n",
       "      <td>15.1</td>\n",
       "      <td>Right</td>\n",
       "      <td>33.592178</td>\n",
       "      <td>-117.475349</td>\n",
       "      <td>POINT (-117.47535 33.59218)</td>\n",
       "      <td>3</td>\n",
       "    </tr>\n",
       "    <tr>\n",
       "      <th>5704</th>\n",
       "      <td>264239</td>\n",
       "      <td>74</td>\n",
       "      <td>74_20171231_R</td>\n",
       "      <td>ORA</td>\n",
       "      <td>12</td>\n",
       "      <td>None</td>\n",
       "      <td>11.800000</td>\n",
       "      <td>None</td>\n",
       "      <td>11.8</td>\n",
       "      <td>Right</td>\n",
       "      <td>33.584417</td>\n",
       "      <td>-117.522362</td>\n",
       "      <td>POINT (-117.52236 33.58442)</td>\n",
       "      <td>3</td>\n",
       "    </tr>\n",
       "  </tbody>\n",
       "</table>\n",
       "<p>170 rows × 14 columns</p>\n",
       "</div>"
      ],
      "text/plain": [
       "      OBJECTID  ROUTE        ROUTEID COUNTY  DISTRICT PMPREFIX         PM  \\\n",
       "576     258722     74  74_20171231_R    ORA        12     None  11.300000   \n",
       "577     258737     74  74_20171231_R    ORA        12     None   3.000000   \n",
       "581     259040     74  74_20171231_R    ORA        12     None  16.599001   \n",
       "584     259362     74  74_20171231_R    ORA        12     None   8.800000   \n",
       "585     259585     74  74_20171231_R    ORA        12     None  11.600000   \n",
       "...        ...    ...            ...    ...       ...      ...        ...   \n",
       "5695    263226     74  74_20171231_R    ORA        12     None   1.000000   \n",
       "5696    263266     74  74_20171231_R    ORA        12     None   6.000000   \n",
       "5700    263753     74  74_20171231_R    ORA        12     None   9.500000   \n",
       "5703    264190     74  74_20171231_R    ORA        12     None  15.100000   \n",
       "5704    264239     74  74_20171231_R    ORA        12     None  11.800000   \n",
       "\n",
       "     PMSUFFIX     PMC ALIGNCODE  Lat_WGS84  Long_WGS84  \\\n",
       "576      None    11.3     Right  33.580740 -117.529616   \n",
       "577      None       3     Right  33.521904 -117.613456   \n",
       "581      None  16.599     Right  33.602202 -117.457767   \n",
       "584      None     8.8     Right  33.551094 -117.548974   \n",
       "585      None    11.6     Right  33.582667 -117.525100   \n",
       "...       ...     ...       ...        ...         ...   \n",
       "5695     None       1     Right  33.510625 -117.644545   \n",
       "5696     None       6     Right  33.515031 -117.565596   \n",
       "5700     None     9.5     Right  33.560830 -117.547352   \n",
       "5703     None    15.1     Right  33.592178 -117.475349   \n",
       "5704     None    11.8     Right  33.584417 -117.522362   \n",
       "\n",
       "                         geometry  SECTION  \n",
       "576   POINT (-117.52962 33.58074)        3  \n",
       "577   POINT (-117.61346 33.52190)        2  \n",
       "581   POINT (-117.45777 33.60220)        3  \n",
       "584   POINT (-117.54897 33.55109)        3  \n",
       "585   POINT (-117.52510 33.58267)        3  \n",
       "...                           ...      ...  \n",
       "5695  POINT (-117.64455 33.51062)        1  \n",
       "5696  POINT (-117.56560 33.51503)        2  \n",
       "5700  POINT (-117.54735 33.56083)        3  \n",
       "5703  POINT (-117.47535 33.59218)        3  \n",
       "5704  POINT (-117.52236 33.58442)        3  \n",
       "\n",
       "[170 rows x 14 columns]"
      ]
     },
     "execution_count": 48,
=======
       "      <th>0</th>\n",
       "      <td>8168138</td>\n",
       "      <td>2019</td>\n",
       "      <td>E</td>\n",
       "      <td>0.160</td>\n",
       "      <td>3</td>\n",
       "      <td>0</td>\n",
       "      <td>2</td>\n",
       "      <td>A</td>\n",
       "      <td>A</td>\n",
       "      <td>NaN</td>\n",
       "      <td>None</td>\n",
       "      <td>None</td>\n",
       "      <td>None</td>\n",
       "      <td>None</td>\n",
       "      <td>-117.656082</td>\n",
       "      <td>33.503235</td>\n",
       "      <td>POINT (-117.65608 33.50323)</td>\n",
       "    </tr>\n",
       "    <tr>\n",
       "      <th>1</th>\n",
       "      <td>8806652</td>\n",
       "      <td>2019</td>\n",
       "      <td>None</td>\n",
       "      <td>0.029</td>\n",
       "      <td>4</td>\n",
       "      <td>0</td>\n",
       "      <td>1</td>\n",
       "      <td>A</td>\n",
       "      <td>D</td>\n",
       "      <td>NaN</td>\n",
       "      <td>None</td>\n",
       "      <td>None</td>\n",
       "      <td>Y</td>\n",
       "      <td>None</td>\n",
       "      <td>-117.658058</td>\n",
       "      <td>33.502583</td>\n",
       "      <td>POINT (-117.65806 33.50258)</td>\n",
       "    </tr>\n",
       "    <tr>\n",
       "      <th>2</th>\n",
       "      <td>8833557</td>\n",
       "      <td>2019</td>\n",
       "      <td>None</td>\n",
       "      <td>1.711</td>\n",
       "      <td>3</td>\n",
       "      <td>0</td>\n",
       "      <td>2</td>\n",
       "      <td>A</td>\n",
       "      <td>D</td>\n",
       "      <td>NaN</td>\n",
       "      <td>None</td>\n",
       "      <td>None</td>\n",
       "      <td>None</td>\n",
       "      <td>None</td>\n",
       "      <td>-117.633255</td>\n",
       "      <td>33.514874</td>\n",
       "      <td>POINT (-117.63326 33.51487)</td>\n",
       "    </tr>\n",
       "    <tr>\n",
       "      <th>3</th>\n",
       "      <td>8843043</td>\n",
       "      <td>2019</td>\n",
       "      <td>E</td>\n",
       "      <td>1.640</td>\n",
       "      <td>3</td>\n",
       "      <td>0</td>\n",
       "      <td>1</td>\n",
       "      <td>A</td>\n",
       "      <td>E</td>\n",
       "      <td>NaN</td>\n",
       "      <td>None</td>\n",
       "      <td>None</td>\n",
       "      <td>None</td>\n",
       "      <td>None</td>\n",
       "      <td>-117.634476</td>\n",
       "      <td>33.514515</td>\n",
       "      <td>POINT (-117.63448 33.51451)</td>\n",
       "    </tr>\n",
       "    <tr>\n",
       "      <th>4</th>\n",
       "      <td>8869822</td>\n",
       "      <td>2019</td>\n",
       "      <td>W</td>\n",
       "      <td>0.190</td>\n",
       "      <td>4</td>\n",
       "      <td>0</td>\n",
       "      <td>2</td>\n",
       "      <td>A</td>\n",
       "      <td>C</td>\n",
       "      <td>NaN</td>\n",
       "      <td>None</td>\n",
       "      <td>None</td>\n",
       "      <td>None</td>\n",
       "      <td>None</td>\n",
       "      <td>-117.655632</td>\n",
       "      <td>33.503399</td>\n",
       "      <td>POINT (-117.65563 33.50340)</td>\n",
       "    </tr>\n",
       "  </tbody>\n",
       "</table>\n",
       "</div>"
      ],
      "text/plain": [
       "   CASE_ID  ACCIDENT_YEAR DIRECTION  POSTMILE  COLLISION_SEVERITY  \\\n",
       "0  8168138           2019         E     0.160                   3   \n",
       "1  8806652           2019      None     0.029                   4   \n",
       "2  8833557           2019      None     1.711                   3   \n",
       "3  8843043           2019         E     1.640                   3   \n",
       "4  8869822           2019         W     0.190                   4   \n",
       "\n",
       "   NUMBER_KILLED  NUMBER_INJURED PRIMARY_COLL_FACTOR TYPE_OF_COLLISION  \\\n",
       "0              0               2                   A                 A   \n",
       "1              0               1                   A                 D   \n",
       "2              0               2                   A                 D   \n",
       "3              0               1                   A                 E   \n",
       "4              0               2                   A                 C   \n",
       "\n",
       "   PEDESTRIAN_ACCIDENT BICYCLE_ACCIDENT MOTORCYCLE_ACCIDENT TRUCK_ACCIDENT  \\\n",
       "0                  NaN             None                None           None   \n",
       "1                  NaN             None                None              Y   \n",
       "2                  NaN             None                None           None   \n",
       "3                  NaN             None                None           None   \n",
       "4                  NaN             None                None           None   \n",
       "\n",
       "  ALCOHOL_INVOLVED         lon        lat                     geometry  \n",
       "0             None -117.656082  33.503235  POINT (-117.65608 33.50323)  \n",
       "1             None -117.658058  33.502583  POINT (-117.65806 33.50258)  \n",
       "2             None -117.633255  33.514874  POINT (-117.63326 33.51487)  \n",
       "3             None -117.634476  33.514515  POINT (-117.63448 33.51451)  \n",
       "4             None -117.655632  33.503399  POINT (-117.65563 33.50340)  "
      ]
     },
     "execution_count": 27,
>>>>>>> origin/TIMS
     "metadata": {},
     "output_type": "execute_result"
    }
   ],
   "source": [
<<<<<<< HEAD
    "SR74_postmile_gdf"
=======
    "TIMS_trimmed_gdf.head(5)"
>>>>>>> origin/TIMS
   ]
  },
  {
   "cell_type": "code",
<<<<<<< HEAD
   "execution_count": 43,
   "metadata": {},
   "outputs": [],
   "source": [
    "def cmcp_section(pm):\n",
    "    if pm <=2.6:\n",
    "        return 1\n",
    "    elif 2.6 < pm <= 7.2:\n",
    "        return 2\n",
    "    else:\n",
    "        return 3"
   ]
  },
  {
   "cell_type": "code",
   "execution_count": 45,
   "metadata": {},
   "outputs": [],
   "source": [
    "SR74_postmile_gdf['SECTION'] = np.vectorize(cmcp_section)(SR74_postmile_gdf['PM'])"
   ]
  },
  {
   "cell_type": "code",
   "execution_count": 46,
   "metadata": {},
   "outputs": [],
   "source": [
    "SR74_postmile_gdf.to_parquet('data/SR74_postmile_gdf.parquet')"
   ]
  },
  {
   "attachments": {},
   "cell_type": "markdown",
   "metadata": {},
   "source": [
    "# Spaital join two gdfs"
   ]
  },
  {
   "cell_type": "code",
   "execution_count": 67,
   "metadata": {},
   "outputs": [
    {
     "name": "stderr",
     "output_type": "stream",
     "text": [
      "/Users/yu-jenchen/miniforge3/envs/py4ds/lib/python3.11/site-packages/geopandas/array.py:344: UserWarning: Geometry is in a geographic CRS. Results from 'sjoin_nearest' are likely incorrect. Use 'GeoSeries.to_crs()' to re-project geometries to a projected CRS before this operation.\n",
      "\n",
      "  warnings.warn(\n"
     ]
    }
   ],
   "source": [
    "SR74_TIMS_joined = gpd.sjoin_nearest(SR74_postmile_gdf, TIMS_trimmed_gdf, how='inner', distance_col='distance')"
   ]
  },
  {
   "cell_type": "code",
   "execution_count": 61,
=======
   "execution_count": 30,
>>>>>>> origin/TIMS
   "metadata": {},
   "outputs": [
    {
     "data": {
<<<<<<< HEAD
      "text/plain": [
       "<Geographic 2D CRS: EPSG:4019>\n",
       "Name: Unknown datum based upon the GRS 1980 ellipsoid\n",
       "Axis Info [ellipsoidal]:\n",
       "- Lat[north]: Geodetic latitude (degree)\n",
       "- Lon[east]: Geodetic longitude (degree)\n",
       "Area of Use:\n",
       "- name: Not specified.\n",
       "- bounds: (-180.0, -90.0, 180.0, 90.0)\n",
       "Datum: Not specified (based on GRS 1980 ellipsoid)\n",
       "- Ellipsoid: GRS 1980\n",
       "- Prime Meridian: Greenwich"
      ]
     },
     "execution_count": 61,
     "metadata": {},
     "output_type": "execute_result"
    }
   ],
   "source": [
    "SR74_TIMS_joined.crs"
   ]
  },
  {
   "cell_type": "code",
   "execution_count": 62,
   "metadata": {},
   "outputs": [
    {
     "data": {
      "text/plain": [
       "<Geographic 2D CRS: EPSG:4019>\n",
       "Name: Unknown datum based upon the GRS 1980 ellipsoid\n",
       "Axis Info [ellipsoidal]:\n",
       "- Lat[north]: Geodetic latitude (degree)\n",
       "- Lon[east]: Geodetic longitude (degree)\n",
       "Area of Use:\n",
       "- name: Not specified.\n",
       "- bounds: (-180.0, -90.0, 180.0, 90.0)\n",
       "Datum: Not specified (based on GRS 1980 ellipsoid)\n",
       "- Ellipsoid: GRS 1980\n",
       "- Prime Meridian: Greenwich"
      ]
     },
     "execution_count": 62,
     "metadata": {},
     "output_type": "execute_result"
    }
   ],
   "source": [
    "SR74_postmile_gdf.crs"
   ]
  },
  {
   "cell_type": "code",
   "execution_count": 59,
   "metadata": {},
   "outputs": [
    {
     "data": {
      "text/plain": [
       "<matplotlib.collections.PathCollection at 0x1471cd3d0>"
      ]
     },
     "execution_count": 59,
     "metadata": {},
     "output_type": "execute_result"
    },
    {
     "data": {
      "image/png": "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",
      "text/plain": [
       "<Figure size 1000x800 with 1 Axes>"
=======
      "image/png": "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",
      "text/plain": [
       "<Figure size 500x500 with 1 Axes>"
>>>>>>> origin/TIMS
      ]
     },
     "metadata": {},
     "output_type": "display_data"
    }
   ],
   "source": [
<<<<<<< HEAD
    "fig = plt.figure(figsize=(10, 8))\n",
    "ax = fig.add_subplot(111)\n",
    "ax.scatter(SR74_TIMS_joined['Long_WGS84'], SR74_TIMS_joined['Lat_WGS84'], marker='o', color='red', alpha=0.7, s=10)"
=======
    "import matplotlib.pyplot as plt\n",
    "\n",
    "# create plot\n",
    "fig, ax = plt.subplots(figsize=(5, 5))\n",
    "ax.scatter(TIMS_trimmed_gdf['lon'], TIMS_trimmed_gdf['lat'], s=5, alpha=0.5)\n",
    "\n",
    "# add labels and title\n",
    "ax.set_xlabel('Longitude')\n",
    "ax.set_ylabel('Latitude')\n",
    "ax.set_title('Lon-Lat Plot')\n",
    "\n",
    "# display the plot\n",
    "fig.tight_layout()\n",
    "plt.show()\n"
>>>>>>> origin/TIMS
   ]
  },
  {
   "cell_type": "code",
<<<<<<< HEAD
   "execution_count": 68,
   "metadata": {},
   "outputs": [
    {
     "data": {
      "text/plain": [
       "Index(['OBJECTID', 'ROUTE', 'ROUTEID', 'COUNTY', 'DISTRICT', 'PMPREFIX', 'PM',\n",
       "       'PMSUFFIX', 'PMC', 'ALIGNCODE', 'Lat_WGS84', 'Long_WGS84', 'geometry',\n",
       "       'SECTION', 'index_right', 'CASE_ID', 'ACCIDENT_YEAR', 'POSTMILE',\n",
       "       'COLLISION_SEVERITY', 'NUMBER_KILLED', 'NUMBER_INJURED', 'PARTY_COUNT',\n",
       "       'PRIMARY_COLL_FACTOR', 'PCF_VIOL_CATEGORY', 'TYPE_OF_COLLISION',\n",
       "       'PED_ACTION', 'PEDESTRIAN_ACCIDENT', 'BICYCLE_ACCIDENT',\n",
       "       'MOTORCYCLE_ACCIDENT', 'TRUCK_ACCIDENT', 'NOT_PRIVATE_PROPERTY',\n",
       "       'ALCOHOL_INVOLVED', 'POINT_X', 'POINT_Y', 'distance'],\n",
       "      dtype='object')"
      ]
     },
     "execution_count": 68,
     "metadata": {},
     "output_type": "execute_result"
    }
   ],
   "source": [
    "SR74_TIMS_joined.columns"
   ]
  },
  {
   "cell_type": "code",
   "execution_count": 69,
   "metadata": {},
   "outputs": [],
   "source": [
    "SR74_TIMS_joined = SR74_TIMS_joined[\n",
    "    [\n",
    "        \"OBJECTID\",\n",
    "        \"PM\",\n",
    "        \"SECTION\",\n",
    "        \"Lat_WGS84\",\n",
    "        \"Long_WGS84\",\n",
    "        \"CASE_ID\",\n",
    "        \"ACCIDENT_YEAR\",\n",
    "        \"POSTMILE\",\n",
    "        \"COLLISION_SEVERITY\",\n",
    "        \"NUMBER_KILLED\",\n",
    "        \"NUMBER_INJURED\",\n",
    "        \"PARTY_COUNT\",\n",
    "        \"PRIMARY_COLL_FACTOR\",\n",
    "        \"PCF_VIOL_CATEGORY\",\n",
    "        \"TYPE_OF_COLLISION\",\n",
    "        \"PED_ACTION\",\n",
    "        \"PEDESTRIAN_ACCIDENT\",\n",
    "        \"BICYCLE_ACCIDENT\",\n",
    "        \"MOTORCYCLE_ACCIDENT\",\n",
    "        \"TRUCK_ACCIDENT\",\n",
    "        \"NOT_PRIVATE_PROPERTY\",\n",
    "        \"ALCOHOL_INVOLVED\",\n",
    "        \"POINT_X\",\n",
    "        \"POINT_Y\",\n",
    "        \"geometry\",\n",
    "    ]\n",
    "].copy()\n"
   ]
  },
  {
   "cell_type": "code",
   "execution_count": 71,
   "metadata": {},
   "outputs": [
    {
     "data": {
      "text/html": [
       "<div>\n",
       "<style scoped>\n",
       "    .dataframe tbody tr th:only-of-type {\n",
       "        vertical-align: middle;\n",
       "    }\n",
       "\n",
       "    .dataframe tbody tr th {\n",
       "        vertical-align: top;\n",
       "    }\n",
       "\n",
       "    .dataframe thead tr th {\n",
       "        text-align: left;\n",
       "    }\n",
       "\n",
       "    .dataframe thead tr:last-of-type th {\n",
       "        text-align: right;\n",
       "    }\n",
       "</style>\n",
       "<table border=\"1\" class=\"dataframe\">\n",
       "  <thead>\n",
       "    <tr>\n",
       "      <th></th>\n",
       "      <th></th>\n",
       "      <th>CASE_ID</th>\n",
       "    </tr>\n",
       "    <tr>\n",
       "      <th></th>\n",
       "      <th></th>\n",
       "      <th>count</th>\n",
       "    </tr>\n",
       "    <tr>\n",
       "      <th>SECTION</th>\n",
       "      <th>ACCIDENT_YEAR</th>\n",
       "      <th></th>\n",
       "    </tr>\n",
       "  </thead>\n",
       "  <tbody>\n",
       "    <tr>\n",
       "      <th rowspan=\"3\" valign=\"top\">1</th>\n",
       "      <th>2019</th>\n",
       "      <td>15</td>\n",
       "    </tr>\n",
       "    <tr>\n",
       "      <th>2020</th>\n",
       "      <td>5</td>\n",
       "    </tr>\n",
       "    <tr>\n",
       "      <th>2021</th>\n",
       "      <td>9</td>\n",
       "    </tr>\n",
       "    <tr>\n",
       "      <th rowspan=\"3\" valign=\"top\">2</th>\n",
       "      <th>2019</th>\n",
       "      <td>22</td>\n",
       "    </tr>\n",
       "    <tr>\n",
       "      <th>2020</th>\n",
       "      <td>11</td>\n",
       "    </tr>\n",
       "    <tr>\n",
       "      <th>2021</th>\n",
       "      <td>15</td>\n",
       "    </tr>\n",
       "    <tr>\n",
       "      <th rowspan=\"3\" valign=\"top\">3</th>\n",
       "      <th>2019</th>\n",
       "      <td>24</td>\n",
       "    </tr>\n",
       "    <tr>\n",
       "      <th>2020</th>\n",
       "      <td>44</td>\n",
       "    </tr>\n",
       "    <tr>\n",
       "      <th>2021</th>\n",
       "      <td>26</td>\n",
       "    </tr>\n",
       "  </tbody>\n",
       "</table>\n",
       "</div>"
      ],
      "text/plain": [
       "                      CASE_ID\n",
       "                        count\n",
       "SECTION ACCIDENT_YEAR        \n",
       "1       2019               15\n",
       "        2020                5\n",
       "        2021                9\n",
       "2       2019               22\n",
       "        2020               11\n",
       "        2021               15\n",
       "3       2019               24\n",
       "        2020               44\n",
       "        2021               26"
      ]
     },
     "execution_count": 71,
     "metadata": {},
     "output_type": "execute_result"
    }
   ],
   "source": [
    "SR74_TIMS_joined.groupby(['SECTION', 'ACCIDENT_YEAR'])[[\"CASE_ID\"]].agg(['count'])"
   ]
=======
   "execution_count": null,
   "metadata": {},
   "outputs": [],
   "source": []
>>>>>>> origin/TIMS
  }
 ],
 "metadata": {
  "kernelspec": {
<<<<<<< HEAD
   "display_name": "py4ds",
=======
   "display_name": "homl3",
>>>>>>> origin/TIMS
   "language": "python",
   "name": "python3"
  },
  "language_info": {
   "codemirror_mode": {
    "name": "ipython",
    "version": 3
   },
   "file_extension": ".py",
   "mimetype": "text/x-python",
   "name": "python",
   "nbconvert_exporter": "python",
   "pygments_lexer": "ipython3",
<<<<<<< HEAD
   "version": "3.11.0"
  },
  "orig_nbformat": 4
=======
   "version": "3.10.9"
  },
  "orig_nbformat": 4,
  "vscode": {
   "interpreter": {
    "hash": "f2cd1b853febe1999785fef26ea0520481d6a088fd826a736aefa1e131e00ffe"
   }
  }
>>>>>>> origin/TIMS
 },
 "nbformat": 4,
 "nbformat_minor": 2
}
